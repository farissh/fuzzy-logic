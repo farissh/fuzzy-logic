{
 "cells": [
  {
   "cell_type": "code",
   "execution_count": 1,
   "metadata": {},
   "outputs": [],
   "source": [
    "import csv"
   ]
  },
  {
   "cell_type": "code",
   "execution_count": 2,
   "metadata": {},
   "outputs": [],
   "source": [
    "with open('influencers.csv') as f:\n",
    "    reader = csv.reader(f)\n",
    "    next(reader)\n",
    "    data = []\n",
    "    for row in (reader):\n",
    "        data.append((int(row[0]),int(row[1]),float(row[2])))"
   ]
  },
  {
   "cell_type": "code",
   "execution_count": 3,
   "metadata": {},
   "outputs": [],
   "source": [
    "def follower_fuzzification(dataset):\n",
    "    fuzzy = []\n",
    "    many = 0.0\n",
    "    nor = 0.0\n",
    "    few = 0.0\n",
    "    for i in range(len(dataset)):\n",
    "        if(dataset[i][1]<=15000):\n",
    "            few = 1.0\n",
    "        if((dataset[i][1]>15000) and (dataset[i][1]<=20000)):\n",
    "            few = (20000-dataset[i][1])/(20000-15000)\n",
    "        if(dataset[i][1]>20000):\n",
    "            few = 0.0 \n",
    "        if((dataset[i][1]>15000) and (dataset[i][1]<=25000)):\n",
    "            nor = (dataset[i][1]-15000)/(25000-15000)\n",
    "        if((dataset[i][1]>25000 and dataset[i][1]<=40000)):\n",
    "            nor = 1.0\n",
    "        if((dataset[i][1]>40000) and (dataset[i][1]<=50000)):\n",
    "            nor = (50000-dataset[i][1])/(50000-40000)\n",
    "        if(dataset[i][1]>50000 or (dataset[i][1]<=15000)):\n",
    "            nor = 0.0\n",
    "        if(dataset[i][1]<=33000):\n",
    "            many = 0.0\n",
    "        if((dataset[i][1]>33000) and (dataset[i][1]<=43000)):\n",
    "            many = (dataset[i][1]-33000)/(43000-33000)\n",
    "        if(dataset[i][1]>43000):\n",
    "            many = 1.0\n",
    "        fuzzy.append([dataset[i][0],few,nor,many])\n",
    "    return fuzzy"
   ]
  },
  {
   "cell_type": "code",
   "execution_count": 4,
   "metadata": {},
   "outputs": [],
   "source": [
    "def engagement_fuzzification(dataset):\n",
    "    fuzzy = []\n",
    "    high = 0.0\n",
    "    mid = 0.0\n",
    "    low = 0.0\n",
    "    for i in range(len(dataset)):\n",
    "        if(dataset[i][2]<=0.8):\n",
    "            low = 1.0\n",
    "        if((dataset[i][2]>0.8) and (dataset[i][2]<=1)):\n",
    "            low = (1-dataset[i][2])/(1-0.8)\n",
    "        if(dataset[i][2]>1):\n",
    "            low = 0.0 \n",
    "        if((dataset[i][2]>0.8) and (dataset[i][2]<=1.3)):\n",
    "            mid = (dataset[i][2]-0.8)/(1.3-0.8)\n",
    "        if((dataset[i][2]>1.3 and dataset[i][2]<=2.2)):\n",
    "            mid = 1.0\n",
    "        if((dataset[i][2]>2.2) and (dataset[i][2]<=3.5)):\n",
    "            mid = (3.5-dataset[i][2])/(3.5-2.2)\n",
    "        if((dataset[i][2]>3.5) and (dataset[i][2]<=0.8)):\n",
    "            mid = 0.0\n",
    "        if(dataset[i][2]<=2.5):\n",
    "            high = 0.0\n",
    "        if((dataset[i][2]>2.5) and (dataset[i][2]<=3.2)):\n",
    "            high = (dataset[i][2]-2.5)/(3.2-2.5)\n",
    "        if(dataset[i][2]>3.2):\n",
    "            high = 1.0\n",
    "        fuzzy.append([dataset[i][0],low,mid,high])\n",
    "    return fuzzy"
   ]
  },
  {
   "cell_type": "code",
   "execution_count": 5,
   "metadata": {},
   "outputs": [],
   "source": [
    "fol = follower_fuzzification(data)\n",
    "eng = engagement_fuzzification(data)"
   ]
  },
  {
   "cell_type": "code",
   "execution_count": 6,
   "metadata": {},
   "outputs": [],
   "source": [
    "def accept_inference_min(fol_lin,eng_lin):\n",
    "    rules = []\n",
    "    for i in range(len(data)):\n",
    "        rules.append([fol_lin[i][0],min(fol_lin[i][3],eng_lin[i][3]),min(fol_lin[i][3],eng_lin[i][2]),min(fol_lin[i][2],eng_lin[i][3])])\n",
    "    return rules"
   ]
  },
  {
   "cell_type": "code",
   "execution_count": 7,
   "metadata": {},
   "outputs": [],
   "source": [
    "def considered_inference_min(fol_lin,eng_lin):\n",
    "    rules = []\n",
    "    for i in range(len(data)):\n",
    "        rules.append([fol_lin[i][0],min(fol_lin[i][3],eng_lin[i][1]),min(fol_lin[i][2],eng_lin[i][2]),min(fol_lin[i][1],eng_lin[i][3])])\n",
    "    return rules"
   ]
  },
  {
   "cell_type": "code",
   "execution_count": 8,
   "metadata": {},
   "outputs": [],
   "source": [
    "def rejected_inference_min(fol_lin,eng_lin):\n",
    "    rules = []\n",
    "    for i in range(len(data)):\n",
    "        rules.append([fol_lin[i][0],min(fol_lin[i][2],eng_lin[i][1]),min(fol_lin[i][1],eng_lin[i][2]),min(fol_lin[i][1],eng_lin[i][1])])\n",
    "    return rules"
   ]
  },
  {
   "cell_type": "code",
   "execution_count": 9,
   "metadata": {
    "scrolled": true
   },
   "outputs": [],
   "source": [
    "acc = accept_inference_min(fol,eng)\n",
    "con = considered_inference_min(fol,eng)\n",
    "rej = rejected_inference_min(fol,eng)"
   ]
  },
  {
   "cell_type": "code",
   "execution_count": 10,
   "metadata": {},
   "outputs": [],
   "source": [
    "def accept_inference_max(accepted):\n",
    "    inference = []\n",
    "    for i in range(len(data)):\n",
    "        inference.append([accepted[i][0],max(accepted[i][1],accepted[i][2],accepted[i][3])])\n",
    "    return inference"
   ]
  },
  {
   "cell_type": "code",
   "execution_count": 11,
   "metadata": {},
   "outputs": [],
   "source": [
    "def considered_inference_max(considered):\n",
    "    inference = []\n",
    "    for i in range(len(data)):\n",
    "        inference.append([considered[i][0],max(considered[i][1],considered[i][2],considered[i][3])])\n",
    "    return inference"
   ]
  },
  {
   "cell_type": "code",
   "execution_count": 12,
   "metadata": {},
   "outputs": [],
   "source": [
    "def rejected_inference_max(rejected):\n",
    "    inference = []\n",
    "    for i in range(len(data)):\n",
    "        inference.append([rejected[i][0],max(rejected[i][1],rejected[i][2],rejected[i][3])])\n",
    "    return inference"
   ]
  },
  {
   "cell_type": "code",
   "execution_count": 13,
   "metadata": {},
   "outputs": [],
   "source": [
    "acc_inf = accept_inference_max(acc)\n",
    "con_inf = considered_inference_max(con)\n",
    "rej_inf = rejected_inference_max(rej)"
   ]
  },
  {
   "cell_type": "code",
   "execution_count": 25,
   "metadata": {},
   "outputs": [],
   "source": [
    "def defuzzification(accepted_inf,considered_inf,rejected_inf):\n",
    "    crisp_output = []\n",
    "    for i in range(len(data)):\n",
    "        crisp_output.append([((accepted_inf[i][1]*100)+(considered_inf[i][1]*70)+(rejected_inf[i][1]*50))/(accepted_inf[i][1]+considered_inf[i][1]+rejected_inf[i][1]),accepted_inf[i][0]])\n",
    "    return crisp_output"
   ]
  },
  {
   "cell_type": "code",
   "execution_count": 29,
   "metadata": {},
   "outputs": [
    {
     "data": {
      "text/plain": [
       "[72, 61, 60, 59, 53, 41, 25, 19, 13, 11, 75, 67, 63, 76, 36, 6, 91, 2, 80, 48]"
      ]
     },
     "execution_count": 29,
     "metadata": {},
     "output_type": "execute_result"
    }
   ],
   "source": [
    "result = defuzzification(acc_inf,con_inf,rej_inf)\n",
    "result.sort(reverse = True)\n",
    "selected = []\n",
    "for i in range(20):\n",
    "    selected.append(result[i][1])\n",
    "selected"
   ]
  },
  {
   "cell_type": "code",
   "execution_count": 30,
   "metadata": {},
   "outputs": [],
   "source": [
    "with open('chosen.csv', mode='w') as chosen:\n",
    "    chosen_writer = csv.writer(chosen)\n",
    "    chosen_writer.writerow(selected)"
   ]
  }
 ],
 "metadata": {
  "kernelspec": {
   "display_name": "Python 3",
   "language": "python",
   "name": "python3"
  },
  "language_info": {
   "codemirror_mode": {
    "name": "ipython",
    "version": 3
   },
   "file_extension": ".py",
   "mimetype": "text/x-python",
   "name": "python",
   "nbconvert_exporter": "python",
   "pygments_lexer": "ipython3",
   "version": "3.7.3"
  }
 },
 "nbformat": 4,
 "nbformat_minor": 2
}
